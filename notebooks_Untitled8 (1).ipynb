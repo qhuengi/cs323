{
  "metadata": {
    "language_info": {
      "codemirror_mode": {
        "name": "python",
        "version": 3
      },
      "file_extension": ".py",
      "mimetype": "text/x-python",
      "name": "python",
      "nbconvert_exporter": "python",
      "pygments_lexer": "ipython3",
      "version": "3.8"
    },
    "kernelspec": {
      "name": "python",
      "display_name": "Python (Pyodide)",
      "language": "python"
    }
  },
  "nbformat_minor": 4,
  "nbformat": 4,
  "cells": [
    {
      "cell_type": "markdown",
      "source": "<h3>BISECTION METHOD</h3>",
      "metadata": {}
    },
    {
      "cell_type": "markdown",
      "source": "<h4>ABSOLUTE VAUE OF F(X) COMPARED TO A THRESHOLD</h4>",
      "metadata": {}
    },
    {
      "cell_type": "code",
      "source": "import math\n\n# Defining Function\ndef f(x):\n    return math.sin(5*x) + math.cos(2*x)\n\n# Implementing Bisection Method\ndef bisection(x0,x1,e):\n    step = 1\n    print('\\n\\n*** BISECTION METHOD IMPLEMENTATION ***')\n    condition = True\n    print('Iteration      a       f(a)      b        f(b)       c       f(c)')\n    while condition:\n        x2 = (x0 + x1)/2\n        print(\"%d         %f %f %f %f %f %f\" % (step, x0, f(x0), x1, f(x1), x2, f(x2)))\n        if f(x0) * f(x2) < 0:\n            x1 = x2\n        else:\n            x0 = x2\n        step = step + 1\n        condition = abs(f(x2)) > e\n\n    print('\\nRequired Root is : %0.8f' % x2)\n\n\n# Input Section\nx0 = float(-0.6)\nx1 = float(-0.5)\ne = float(1/(10**8))\n\n# Checking Correctness of initial guess values and bisecting\nif f(x0) * f(x1) > 0.0:\n    print('Given guess values do not bracket the root.')\n    print('Try Again with different guess values.')\nelse:\n    bisection(x0,x1,e)\n\n    ",
      "metadata": {
        "trusted": true
      },
      "execution_count": 11,
      "outputs": [
        {
          "name": "stdout",
          "text": "\n\n*** BISECTION METHOD IMPLEMENTATION ***\nIteration      a       f(a)      b        f(b)       c       f(c)\n1         -0.600000 0.221238 -0.500000 -0.058170 -0.550000 0.071935\n2         -0.550000 0.071935 -0.500000 -0.058170 -0.525000 0.003651\n3         -0.525000 0.003651 -0.500000 -0.058170 -0.512500 -0.028166\n4         -0.525000 0.003651 -0.512500 -0.028166 -0.518750 -0.012472\n5         -0.525000 0.003651 -0.518750 -0.012472 -0.521875 -0.004463\n6         -0.525000 0.003651 -0.521875 -0.004463 -0.523438 -0.000419\n7         -0.525000 0.003651 -0.523438 -0.000419 -0.524219 0.001613\n8         -0.524219 0.001613 -0.523438 -0.000419 -0.523828 0.000596\n9         -0.523828 0.000596 -0.523438 -0.000419 -0.523633 0.000088\n10         -0.523633 0.000088 -0.523438 -0.000419 -0.523535 -0.000165\n11         -0.523633 0.000088 -0.523535 -0.000165 -0.523584 -0.000038\n12         -0.523633 0.000088 -0.523584 -0.000038 -0.523608 0.000025\n13         -0.523608 0.000025 -0.523584 -0.000038 -0.523596 -0.000007\n14         -0.523608 0.000025 -0.523596 -0.000007 -0.523602 0.000009\n15         -0.523602 0.000009 -0.523596 -0.000007 -0.523599 0.000001\n16         -0.523599 0.000001 -0.523596 -0.000007 -0.523598 -0.000003\n17         -0.523599 0.000001 -0.523598 -0.000003 -0.523598 -0.000001\n18         -0.523599 0.000001 -0.523598 -0.000001 -0.523599 0.000000\n19         -0.523599 0.000000 -0.523598 -0.000001 -0.523599 -0.000000\n20         -0.523599 0.000000 -0.523599 -0.000000 -0.523599 -0.000000\n21         -0.523599 0.000000 -0.523599 -0.000000 -0.523599 0.000000\n22         -0.523599 0.000000 -0.523599 -0.000000 -0.523599 0.000000\n23         -0.523599 0.000000 -0.523599 -0.000000 -0.523599 0.000000\n\nRequired Root is : -0.52359878\n",
          "output_type": "stream"
        }
      ]
    },
    {
      "cell_type": "markdown",
      "source": "<h4>DIFFERENCE BETWEEN PREVIOUS AND CURRENT GUESS</h4>",
      "metadata": {}
    },
    {
      "cell_type": "code",
      "source": "import math\n\n# Defining Function\ndef f(x):\n    return math.sin(5*x) + math.cos(2*x)\n\n# Implementing Bisection Method\ndef bisection(x0,x1,e,all_x):\n    step = 1\n    print('\\n\\n*** BISECTION METHOD IMPLEMENTATION ***')\n    condition = True\n    print('Iteration      a       f(a)      b        f(b)       c       f(c)      curr[x] - prev[x]')\n    while condition:\n        x2 = (x0 + x1)/2\n        all_x.append(x2)\n        difference_error = (all_x[step] - all_x[step-1])\n        print(\"%d         %f %f %f %f %f %f      %f\" % (step, x0, f(x0), x1, f(x1), x2, f(x2), difference_error))\n        if f(x0) * f(x2) < 0:\n            x1 = x2\n        else:\n            x0 = x2\n        step = step + 1\n        condition = abs(difference_error) > e\n\n    print('\\nRequired Root is : %0.8f' % x2)\n\n\n# Input Section\nx0 = -0.6\nx1 = -0.5\ne = 1/(10**8)\nall_x = list()\nall_x.append(1)\n\n# Checking Correctness of initial guess values and bisecting\nif f(x0) * f(x1) > 0.0:\n    print('Given guess values do not bracket the root.')\n    print('Try Again with different guess values.')\nelse:\n    bisection(x0,x1,e,all_x)\n\n    ",
      "metadata": {
        "trusted": true
      },
      "execution_count": 16,
      "outputs": [
        {
          "name": "stdout",
          "text": "\n\n*** BISECTION METHOD IMPLEMENTATION ***\nIteration      a       f(a)      b        f(b)       c       f(c)      curr[x] - prev[x]\n1         -0.600000 0.221238 -0.500000 -0.058170 -0.550000 0.071935      -1.550000\n2         -0.550000 0.071935 -0.500000 -0.058170 -0.525000 0.003651      0.025000\n3         -0.525000 0.003651 -0.500000 -0.058170 -0.512500 -0.028166      0.012500\n4         -0.525000 0.003651 -0.512500 -0.028166 -0.518750 -0.012472      -0.006250\n5         -0.525000 0.003651 -0.518750 -0.012472 -0.521875 -0.004463      -0.003125\n6         -0.525000 0.003651 -0.521875 -0.004463 -0.523438 -0.000419      -0.001562\n7         -0.525000 0.003651 -0.523438 -0.000419 -0.524219 0.001613      -0.000781\n8         -0.524219 0.001613 -0.523438 -0.000419 -0.523828 0.000596      0.000391\n9         -0.523828 0.000596 -0.523438 -0.000419 -0.523633 0.000088      0.000195\n10         -0.523633 0.000088 -0.523438 -0.000419 -0.523535 -0.000165      0.000098\n11         -0.523633 0.000088 -0.523535 -0.000165 -0.523584 -0.000038      -0.000049\n12         -0.523633 0.000088 -0.523584 -0.000038 -0.523608 0.000025      -0.000024\n13         -0.523608 0.000025 -0.523584 -0.000038 -0.523596 -0.000007      0.000012\n14         -0.523608 0.000025 -0.523596 -0.000007 -0.523602 0.000009      -0.000006\n15         -0.523602 0.000009 -0.523596 -0.000007 -0.523599 0.000001      0.000003\n16         -0.523599 0.000001 -0.523596 -0.000007 -0.523598 -0.000003      0.000002\n17         -0.523599 0.000001 -0.523598 -0.000003 -0.523598 -0.000001      -0.000001\n18         -0.523599 0.000001 -0.523598 -0.000001 -0.523599 0.000000      -0.000000\n19         -0.523599 0.000000 -0.523598 -0.000001 -0.523599 -0.000000      0.000000\n20         -0.523599 0.000000 -0.523599 -0.000000 -0.523599 -0.000000      -0.000000\n21         -0.523599 0.000000 -0.523599 -0.000000 -0.523599 0.000000      -0.000000\n22         -0.523599 0.000000 -0.523599 -0.000000 -0.523599 0.000000      0.000000\n23         -0.523599 0.000000 -0.523599 -0.000000 -0.523599 0.000000      0.000000\n24         -0.523599 0.000000 -0.523599 -0.000000 -0.523599 -0.000000      0.000000\n\nRequired Root is : -0.52359877\n",
          "output_type": "stream"
        }
      ]
    },
    {
      "cell_type": "markdown",
      "source": "<h4>DIFFERENCE BETWEEN A AND B (INTERVAL)</h4>",
      "metadata": {}
    },
    {
      "cell_type": "code",
      "source": "import math\n\n# Defining Function\ndef f(x):\n    return math.sin(5*x) + math.cos(2*x)\n\n# Implementing Bisection Method\ndef bisection(x0,x1,e):\n    step = 1\n    print('\\n\\n*** BISECTION METHOD IMPLEMENTATION ***')\n    condition = True\n    print('Iteration      a       f(a)      b        f(b)       c       f(c)      abs(a-b)')\n    while condition:\n        x2 = (x0 + x1)/2\n        a = x0\n        b = x1\n        if f(x0) * f(x2) < 0:\n            x1 = x2\n        else:\n            x0 = x2\n        difference_interval = abs(a-b)\n        print(\"%d         %f %f %f %f %0.9f %f   %0.9f\" % (step, a, f(a), b, f(b), x2, f(x2), difference_interval))\n        \n        step = step + 1\n        condition = difference_interval > e\n\n    print('\\nRequired Root is : %0.8f' % x2)\n\n\n# Input Section\nx0 = -0.6\nx1 = -0.5\ne = 1/(10**8)\n\n# Checking Correctness of initial guess values and bisecting\nif f(x0) * f(x1) > 0.0:\n    print('Given guess values do not bracket the root.')\n    print('Try Again with different guess values.')\nelse:\n    bisection(x0,x1,e)\n\n    ",
      "metadata": {
        "trusted": true
      },
      "execution_count": 21,
      "outputs": [
        {
          "name": "stdout",
          "text": "\n\n*** BISECTION METHOD IMPLEMENTATION ***\nIteration      a       f(a)      b        f(b)       c       f(c)      abs(a-b)\n1         -0.600000 0.221238 -0.500000 -0.058170 -0.550000000 0.071935   0.100000000\n2         -0.550000 0.071935 -0.500000 -0.058170 -0.525000000 0.003651   0.050000000\n3         -0.525000 0.003651 -0.500000 -0.058170 -0.512500000 -0.028166   0.025000000\n4         -0.525000 0.003651 -0.512500 -0.028166 -0.518750000 -0.012472   0.012500000\n5         -0.525000 0.003651 -0.518750 -0.012472 -0.521875000 -0.004463   0.006250000\n6         -0.525000 0.003651 -0.521875 -0.004463 -0.523437500 -0.000419   0.003125000\n7         -0.525000 0.003651 -0.523438 -0.000419 -0.524218750 0.001613   0.001562500\n8         -0.524219 0.001613 -0.523438 -0.000419 -0.523828125 0.000596   0.000781250\n9         -0.523828 0.000596 -0.523438 -0.000419 -0.523632813 0.000088   0.000390625\n10         -0.523633 0.000088 -0.523438 -0.000419 -0.523535156 -0.000165   0.000195313\n11         -0.523633 0.000088 -0.523535 -0.000165 -0.523583984 -0.000038   0.000097656\n12         -0.523633 0.000088 -0.523584 -0.000038 -0.523608398 0.000025   0.000048828\n13         -0.523608 0.000025 -0.523584 -0.000038 -0.523596191 -0.000007   0.000024414\n14         -0.523608 0.000025 -0.523596 -0.000007 -0.523602295 0.000009   0.000012207\n15         -0.523602 0.000009 -0.523596 -0.000007 -0.523599243 0.000001   0.000006104\n16         -0.523599 0.000001 -0.523596 -0.000007 -0.523597717 -0.000003   0.000003052\n17         -0.523599 0.000001 -0.523598 -0.000003 -0.523598480 -0.000001   0.000001526\n18         -0.523599 0.000001 -0.523598 -0.000001 -0.523598862 0.000000   0.000000763\n19         -0.523599 0.000000 -0.523598 -0.000001 -0.523598671 -0.000000   0.000000381\n20         -0.523599 0.000000 -0.523599 -0.000000 -0.523598766 -0.000000   0.000000191\n21         -0.523599 0.000000 -0.523599 -0.000000 -0.523598814 0.000000   0.000000095\n22         -0.523599 0.000000 -0.523599 -0.000000 -0.523598790 0.000000   0.000000048\n23         -0.523599 0.000000 -0.523599 -0.000000 -0.523598778 0.000000   0.000000024\n24         -0.523599 0.000000 -0.523599 -0.000000 -0.523598772 -0.000000   0.000000012\n25         -0.523599 0.000000 -0.523599 -0.000000 -0.523598775 -0.000000   0.000000006\n\nRequired Root is : -0.52359878\n",
          "output_type": "stream"
        }
      ]
    },
    {
      "cell_type": "markdown",
      "source": "<h4> FIXED NUMBER OF ITERATIONS </h4>",
      "metadata": {}
    },
    {
      "cell_type": "code",
      "source": "import math\n\n# Defining Function\ndef f(x):\n    return math.sin(5*x) + math.cos(2*x)\n\n# Implementing Bisection Method\ndef bisection(x0,x1,no_of_steps):\n    step = 1\n    print('\\n\\n*** BISECTION METHOD IMPLEMENTATION ***')\n    condition = True\n    print('Iteration      a       f(a)      b        f(b)       c       f(c)')\n    while condition:\n        x2 = (x0 + x1)/2\n        print(\"%d         %f %f %f %f %f %f\" % (step, x0, f(x0), x1, f(x1), x2, f(x2)))\n        if f(x0) * f(x2) < 0:\n            x1 = x2\n        else:\n            x0 = x2\n        step = step + 1\n        condition = step <= no_of_steps\n\n    print('\\nRequired Root is : %0.8f' % x2)\n\n\n# Input Section\nx0 = float(-0.6)\nx1 = float(-0.5)\nno_of_steps = 15\n\n# Checking Correctness of initial guess values and bisecting\nif f(x0) * f(x1) > 0.0:\n    print('Given guess values do not bracket the root.')\n    print('Try Again with different guess values.')\nelse:\n    bisection(x0,x1,no_of_steps)\n\n    ",
      "metadata": {
        "trusted": true
      },
      "execution_count": 24,
      "outputs": [
        {
          "name": "stdout",
          "text": "\n\n*** BISECTION METHOD IMPLEMENTATION ***\nIteration      a       f(a)      b        f(b)       c       f(c)\n1         -0.600000 0.221238 -0.500000 -0.058170 -0.550000 0.071935\n2         -0.550000 0.071935 -0.500000 -0.058170 -0.525000 0.003651\n3         -0.525000 0.003651 -0.500000 -0.058170 -0.512500 -0.028166\n4         -0.525000 0.003651 -0.512500 -0.028166 -0.518750 -0.012472\n5         -0.525000 0.003651 -0.518750 -0.012472 -0.521875 -0.004463\n6         -0.525000 0.003651 -0.521875 -0.004463 -0.523438 -0.000419\n7         -0.525000 0.003651 -0.523438 -0.000419 -0.524219 0.001613\n8         -0.524219 0.001613 -0.523438 -0.000419 -0.523828 0.000596\n9         -0.523828 0.000596 -0.523438 -0.000419 -0.523633 0.000088\n10         -0.523633 0.000088 -0.523438 -0.000419 -0.523535 -0.000165\n11         -0.523633 0.000088 -0.523535 -0.000165 -0.523584 -0.000038\n12         -0.523633 0.000088 -0.523584 -0.000038 -0.523608 0.000025\n13         -0.523608 0.000025 -0.523584 -0.000038 -0.523596 -0.000007\n14         -0.523608 0.000025 -0.523596 -0.000007 -0.523602 0.000009\n15         -0.523602 0.000009 -0.523596 -0.000007 -0.523599 0.000001\n\nRequired Root is : -0.52359924\n",
          "output_type": "stream"
        }
      ]
    },
    {
      "cell_type": "markdown",
      "source": "<h3>NEWTON'S METHOD</h3>",
      "metadata": {}
    },
    {
      "cell_type": "markdown",
      "source": "<h4>ABSOLUTE VAUE OF F(X) COMPARED TO A THRESHOLD</h4>",
      "metadata": {}
    },
    {
      "cell_type": "code",
      "source": "import math\n# Defining Function\ndef f(x):\n    return math.sin(x)\n# Defining derivative of function\ndef f_dash(x):\n    return math.cos(x)\n# Implementing Newton Raphson Method\ndef newtonRaphson(x0,e):\n    print('\\n\\n*** NEWTON RAPHSON METHOD IMPLEMENTATION ***')\n    step = 1\n    condition = True\n    while condition:\n        if f_dash(x0) == 0.0:\n            print('Divide by zero error!')\n            break\n        x1 = x0 - f(x0)/f_dash(x0)\n        print('Iteration-%d, x1 = %0.10f and f(x1) = %0.10f' % (step, x1, f(x1)))\n        x0 = x1\n        step = step + 1\n        condition = abs(f(x1)) > e\n    print('\\nRequired root is: %0.10f' % x1)\n# Input Section\nx0 = 2\ne = 1/(10**14)\n\n# Starting Newton Raphson Method\nnewtonRaphson(x0,e)",
      "metadata": {
        "trusted": true
      },
      "execution_count": 34,
      "outputs": [
        {
          "name": "stdout",
          "text": "\n\n*** NEWTON RAPHSON METHOD IMPLEMENTATION ***\nIteration-1, x1 = 4.1850398633 and f(x1) = -0.8641441471\nIteration-2, x1 = 2.4678936745 and f(x1) = 0.6238810721\nIteration-3, x1 = 3.2661862776 and f(x1) = -0.1242715178\nIteration-4, x1 = 3.1409439123 and f(x1) = 0.0006487412\nIteration-5, x1 = 3.1415926537 and f(x1) = -0.0000000001\nIteration-6, x1 = 3.1415926536 and f(x1) = 0.0000000000\n\nRequired root is: 3.1415926536\n",
          "output_type": "stream"
        }
      ]
    },
    {
      "cell_type": "markdown",
      "source": "<h4>RATE OF CONVERGENCE</h4>",
      "metadata": {}
    },
    {
      "cell_type": "code",
      "source": "import math\n# Defining Function\ndef f(x):\n    return math.sin(x)\n# Defining derivative of function\ndef f_dash(x):\n    return math.cos(x)\n#Rate\ndef rate(x, x_exact):\n    e = [abs(x_ - x_exact) for x_ in x]\n    q = [math.log(e[n+1]/e[n])/math.log(e[n]/e[n-1]) for n in range(1, len(e)-1, 1)]\n    return q\n#Print Rate\ndef print_rates(x, x_exact):\n    q = ['%.2f' % q_ for q_ in rate(x, x_exact)]\n    print(\"Newton\")\n    for q_ in q:\n        print(q_)\n    print()\n# Implementing Newton Raphson Method\ndef newtonRaphson(x0,e,all_x):\n    print('\\n\\n*** NEWTON RAPHSON METHOD IMPLEMENTATION ***')\n    step = 1\n    condition = True\n    while condition:\n        if f_dash(x0) == 0.0:\n            print('Divide by zero error!')\n            break\n        x1 = x0 - f(x0)/f_dash(x0)\n        all_x.append(x1)\n        print('Iteration-%d, x1 = %0.10f and f(x1) = %0.10f' % (step, x1, f(x1)))\n        x0 = x1\n        step = step + 1\n        condition = abs(f(x1)) > e\n    print('\\nRequired root is: %0.10f' % x1)\n    return all_x, step\n    \n# Input Section\nx0 = 2\ne = 1/(10**10)\nx_exact = 3.14159265359\nall_x = list()\nall_x.append(x0)\n\n# Starting Newton Raphson Method\nall_x, steps = newtonRaphson(x0,e,all_x)\nprint_rates(all_x, x_exact)",
      "metadata": {
        "trusted": true
      },
      "execution_count": 38,
      "outputs": [
        {
          "name": "stdout",
          "text": "\n\n*** NEWTON RAPHSON METHOD IMPLEMENTATION ***\nIteration-1, x1 = 4.1850398633 and f(x1) = -0.8641441471\nIteration-2, x1 = 2.4678936745 and f(x1) = 0.6238810721\nIteration-3, x1 = 3.2661862776 and f(x1) = -0.1242715178\nIteration-4, x1 = 3.1409439123 and f(x1) = 0.0006487412\nIteration-5, x1 = 3.1415926537 and f(x1) = -0.0000000001\n\nRequired root is: 3.1415926537\nNewton\n4.87\n3.86\n3.12\n3.00\n\n",
          "output_type": "stream"
        }
      ]
    },
    {
      "cell_type": "code",
      "source": "import math\n# Defining Function\ndef f(x):\n    return x**2 - 1.0001\n# Defining derivative of function\ndef f_dash(x):\n    return 2*x\n#Rate\ndef rate(x, x_exact):\n    e = [abs(x_ - x_exact) for x_ in x]\n    q = [math.log(e[n+1]/e[n])/math.log(e[n]/e[n-1]) for n in range(1, len(e)-1, 1)]\n    return q\n#Print Rate\ndef print_rates(x, x_exact):\n    q = ['%.2f' % q_ for q_ in rate(x, x_exact)]\n    print(\"Newton\")\n    for q_ in q:\n        print(q_)\n    print()\n# Implementing Newton Raphson Method\ndef newtonRaphson(x0,e,all_x):\n    print('\\n\\n*** NEWTON RAPHSON METHOD IMPLEMENTATION ***')\n    step = 1\n    condition = True\n    while condition:\n        if f_dash(x0) == 0.0:\n            print('Divide by zero error!')\n            break\n        x1 = x0 - f(x0)/f_dash(x0)\n        all_x.append(x1)\n        print('Iteration-%d, x1 = %0.10f and f(x1) = %0.10f' % (step, x1, f(x1)))\n        x0 = x1\n        step = step + 1\n        condition = abs(f(x1)) > e\n    print('\\nRequired root is: %0.10f' % x1)\n    return all_x, step\n    \n# Input Section\nx0 = 1\ne = 1/(10**10)\nx_exact = 1.00004999875\nall_x = list()\nall_x.append(x0)\n\n# Starting Newton Raphson Method\nall_x, steps = newtonRaphson(x0,e,all_x)\nprint_rates(all_x, x_exact)",
      "metadata": {
        "trusted": true
      },
      "execution_count": 40,
      "outputs": [
        {
          "name": "stdout",
          "text": "\n\n*** NEWTON RAPHSON METHOD IMPLEMENTATION ***\nIteration-1, x1 = 1.0000500000 and f(x1) = 0.0000000025\nIteration-2, x1 = 1.0000499988 and f(x1) = -0.0000000000\n\nRequired root is: 1.0000499988\nNewton\n0.93\n\n",
          "output_type": "stream"
        }
      ]
    },
    {
      "cell_type": "code",
      "source": "# Defining Function\ndef f(x):\n    return x**3 - 5*x - 9\n\n# Implementing Secant Method\n\ndef secant(x0,x1,e,N):\n    print('\\n\\n*** SECANT METHOD IMPLEMENTATION ***')\n    step = 1\n    condition = True\n    while condition:\n        if f(x0) == f(x1):\n            print('Divide by zero error!')\n            break\n        \n        x2 = x0 - (x1-x0)*f(x0)/( f(x1) - f(x0) ) \n        print('Iteration-%d, x2 = %0.6f and f(x2) = %0.6f' % (step, x2, f(x2)))\n        x0 = x1\n        x1 = x2\n        step = step + 1\n        \n        if step > N:\n            print('Not Convergent!')\n            break\n        \n        condition = abs(f(x2)) > e\n    print('\\n Required root is: %0.8f' % x2)\n\n\n# Input Section\nx0 = input('Enter First Guess: ')\nx1 = input('Enter Second Guess: ')\ne = input('Tolerable Error: ')\nN = input('Maximum Step: ')\n\n# Converting x0 and e to float\nx0 = float(x0)\nx1 = float(x1)\ne = float(e)\n\n# Converting N to integer\nN = int(N)\n\n# Starting Secant Method\nsecant(x0,x1,e,N)\n",
      "metadata": {},
      "execution_count": null,
      "outputs": []
    },
    {
      "cell_type": "markdown",
      "source": "<h4>\nFind the smallest nonnegative integer m such that the Taylor series about m for (x − 1)^1/2 exists. Determine the coefficients in the series.<br />\n\n</h4>",
      "metadata": {}
    },
    {
      "cell_type": "code",
      "source": "",
      "metadata": {},
      "execution_count": null,
      "outputs": []
    },
    {
      "cell_type": "code",
      "source": "",
      "metadata": {},
      "execution_count": null,
      "outputs": []
    },
    {
      "cell_type": "code",
      "source": "",
      "metadata": {},
      "execution_count": null,
      "outputs": []
    }
  ]
}